{
 "metadata": {
  "language_info": {
   "codemirror_mode": {
    "name": "ipython",
    "version": 3
   },
   "file_extension": ".py",
   "mimetype": "text/x-python",
   "name": "python",
   "nbconvert_exporter": "python",
   "pygments_lexer": "ipython3",
   "version": "3.7.3-final"
  },
  "orig_nbformat": 2,
  "kernelspec": {
   "name": "python3",
   "display_name": "Python 3.7.3 64-bit ('anaconda3': virtualenv)",
   "metadata": {
    "interpreter": {
     "hash": "fd7faafd93e73cb726a1944b6ae708110aedf5f8970cd72fe092f60b3530fe0b"
    }
   }
  }
 },
 "nbformat": 4,
 "nbformat_minor": 2,
 "cells": [
  {
   "cell_type": "code",
   "execution_count": 2,
   "metadata": {},
   "outputs": [
    {
     "output_type": "stream",
     "name": "stdout",
     "text": [
      "3.32 ms ± 31.8 µs per loop (mean ± std. dev. of 7 runs, 100 loops each)\n"
     ]
    }
   ],
   "source": [
    "%timeit a = [1 for _ in range(100000)]"
   ]
  },
  {
   "cell_type": "code",
   "execution_count": 3,
   "metadata": {},
   "outputs": [
    {
     "output_type": "stream",
     "name": "stdout",
     "text": [
      "164 µs ± 8.1 µs per loop (mean ± std. dev. of 7 runs, 10000 loops each)\n"
     ]
    }
   ],
   "source": [
    "%timeit a = [1]*100000"
   ]
  },
  {
   "cell_type": "code",
   "execution_count": 3,
   "metadata": {},
   "outputs": [],
   "source": [
    "import torch"
   ]
  },
  {
   "cell_type": "code",
   "execution_count": 4,
   "metadata": {},
   "outputs": [],
   "source": [
    "class H(torch.nn.Module):\n",
    "    def __init__(self):\n",
    "        super().__init__()\n",
    "        self.a = torch.tensor([3])\n",
    "        self.a = torch.nn.Parameter(torch.tensor([3.0]))\n",
    "        print(self.a.device)\n",
    "        a = torch.tensor([3])\n",
    "        print(a.device)\n",
    "    \n",
    "    def forward(self, x):\n",
    "        a = torch.tensor([3])\n",
    "        print(a.device)\n",
    "        return x"
   ]
  },
  {
   "cell_type": "code",
   "execution_count": 5,
   "metadata": {},
   "outputs": [
    {
     "output_type": "stream",
     "name": "stdout",
     "text": [
      "cpu\ncpu\n"
     ]
    }
   ],
   "source": [
    "test = H()"
   ]
  },
  {
   "cell_type": "code",
   "execution_count": 6,
   "metadata": {},
   "outputs": [
    {
     "output_type": "execute_result",
     "data": {
      "text/plain": [
       "True"
      ]
     },
     "metadata": {},
     "execution_count": 6
    }
   ],
   "source": [
    "test.a.requires_grad"
   ]
  },
  {
   "cell_type": "code",
   "execution_count": 23,
   "metadata": {},
   "outputs": [],
   "source": [
    "import numpy as np\n",
    "import matplotlib.pyplot as plt\n",
    "\n"
   ]
  },
  {
   "cell_type": "code",
   "execution_count": 31,
   "metadata": {},
   "outputs": [],
   "source": [
    "num_embedding = 33\n",
    "embedding_step = (2*np.log(2))/(num_embedding-1)\n",
    "x = np.arange(0,33)\n",
    "y = np.arange(-np.log(2),np.log(2)+embedding_step,embedding_step)"
   ]
  },
  {
   "cell_type": "code",
   "execution_count": 34,
   "metadata": {},
   "outputs": [
    {
     "output_type": "display_data",
     "data": {
      "text/plain": "<Figure size 432x288 with 1 Axes>",
      "image/svg+xml": "<?xml version=\"1.0\" encoding=\"utf-8\" standalone=\"no\"?>\n<!DOCTYPE svg PUBLIC \"-//W3C//DTD SVG 1.1//EN\"\n  \"http://www.w3.org/Graphics/SVG/1.1/DTD/svg11.dtd\">\n<!-- Created with matplotlib (https://matplotlib.org/) -->\n<svg height=\"248.518125pt\" version=\"1.1\" viewBox=\"0 0 368.925 248.518125\" width=\"368.925pt\" xmlns=\"http://www.w3.org/2000/svg\" xmlns:xlink=\"http://www.w3.org/1999/xlink\">\n <defs>\n  <style type=\"text/css\">\n*{stroke-linecap:butt;stroke-linejoin:round;white-space:pre;}\n  </style>\n </defs>\n <g id=\"figure_1\">\n  <g id=\"patch_1\">\n   <path d=\"M -0 248.518125 \nL 368.925 248.518125 \nL 368.925 0 \nL -0 0 \nz\n\" style=\"fill:none;\"/>\n  </g>\n  <g id=\"axes_1\">\n   <g id=\"patch_2\">\n    <path d=\"M 26.925 224.64 \nL 361.725 224.64 \nL 361.725 7.2 \nL 26.925 7.2 \nz\n\" style=\"fill:#ffffff;\"/>\n   </g>\n   <g id=\"PathCollection_1\">\n    <defs>\n     <path d=\"M 0 3 \nC 0.795609 3 1.55874 2.683901 2.12132 2.12132 \nC 2.683901 1.55874 3 0.795609 3 0 \nC 3 -0.795609 2.683901 -1.55874 2.12132 -2.12132 \nC 1.55874 -2.683901 0.795609 -3 0 -3 \nC -0.795609 -3 -1.55874 -2.683901 -2.12132 -2.12132 \nC -2.683901 -1.55874 -3 -0.795609 -3 0 \nC -3 0.795609 -2.683901 1.55874 -2.12132 2.12132 \nC -1.55874 2.683901 -0.795609 3 0 3 \nz\n\" id=\"ma49b87e380\" style=\"stroke:#1f77b4;\"/>\n    </defs>\n    <g clip-path=\"url(#p7aa1b18919)\">\n     <use style=\"fill:#1f77b4;stroke:#1f77b4;\" x=\"42.228361\" xlink:href=\"#ma49b87e380\" y=\"214.67121\"/>\n     <use style=\"fill:#1f77b4;stroke:#1f77b4;\" x=\"51.734401\" xlink:href=\"#ma49b87e380\" y=\"208.499259\"/>\n     <use style=\"fill:#1f77b4;stroke:#1f77b4;\" x=\"61.240441\" xlink:href=\"#ma49b87e380\" y=\"202.327309\"/>\n     <use style=\"fill:#1f77b4;stroke:#1f77b4;\" x=\"70.746481\" xlink:href=\"#ma49b87e380\" y=\"196.155358\"/>\n     <use style=\"fill:#1f77b4;stroke:#1f77b4;\" x=\"80.252521\" xlink:href=\"#ma49b87e380\" y=\"189.983407\"/>\n     <use style=\"fill:#1f77b4;stroke:#1f77b4;\" x=\"89.758561\" xlink:href=\"#ma49b87e380\" y=\"183.811457\"/>\n     <use style=\"fill:#1f77b4;stroke:#1f77b4;\" x=\"99.264601\" xlink:href=\"#ma49b87e380\" y=\"177.639506\"/>\n     <use style=\"fill:#1f77b4;stroke:#1f77b4;\" x=\"108.770641\" xlink:href=\"#ma49b87e380\" y=\"171.467556\"/>\n     <use style=\"fill:#1f77b4;stroke:#1f77b4;\" x=\"118.276681\" xlink:href=\"#ma49b87e380\" y=\"165.295605\"/>\n     <use style=\"fill:#1f77b4;stroke:#1f77b4;\" x=\"127.782721\" xlink:href=\"#ma49b87e380\" y=\"159.123654\"/>\n     <use style=\"fill:#1f77b4;stroke:#1f77b4;\" x=\"137.288761\" xlink:href=\"#ma49b87e380\" y=\"152.951704\"/>\n     <use style=\"fill:#1f77b4;stroke:#1f77b4;\" x=\"146.7948\" xlink:href=\"#ma49b87e380\" y=\"146.779753\"/>\n     <use style=\"fill:#1f77b4;stroke:#1f77b4;\" x=\"156.30084\" xlink:href=\"#ma49b87e380\" y=\"140.607802\"/>\n     <use style=\"fill:#1f77b4;stroke:#1f77b4;\" x=\"165.80688\" xlink:href=\"#ma49b87e380\" y=\"134.435852\"/>\n     <use style=\"fill:#1f77b4;stroke:#1f77b4;\" x=\"175.31292\" xlink:href=\"#ma49b87e380\" y=\"128.263901\"/>\n     <use style=\"fill:#1f77b4;stroke:#1f77b4;\" x=\"184.81896\" xlink:href=\"#ma49b87e380\" y=\"122.091951\"/>\n     <use style=\"fill:#1f77b4;stroke:#1f77b4;\" x=\"194.325\" xlink:href=\"#ma49b87e380\" y=\"115.92\"/>\n     <use style=\"fill:#1f77b4;stroke:#1f77b4;\" x=\"203.83104\" xlink:href=\"#ma49b87e380\" y=\"109.748049\"/>\n     <use style=\"fill:#1f77b4;stroke:#1f77b4;\" x=\"213.33708\" xlink:href=\"#ma49b87e380\" y=\"103.576099\"/>\n     <use style=\"fill:#1f77b4;stroke:#1f77b4;\" x=\"222.84312\" xlink:href=\"#ma49b87e380\" y=\"97.404148\"/>\n     <use style=\"fill:#1f77b4;stroke:#1f77b4;\" x=\"232.34916\" xlink:href=\"#ma49b87e380\" y=\"91.232198\"/>\n     <use style=\"fill:#1f77b4;stroke:#1f77b4;\" x=\"241.8552\" xlink:href=\"#ma49b87e380\" y=\"85.060247\"/>\n     <use style=\"fill:#1f77b4;stroke:#1f77b4;\" x=\"251.361239\" xlink:href=\"#ma49b87e380\" y=\"78.888296\"/>\n     <use style=\"fill:#1f77b4;stroke:#1f77b4;\" x=\"260.867279\" xlink:href=\"#ma49b87e380\" y=\"72.716346\"/>\n     <use style=\"fill:#1f77b4;stroke:#1f77b4;\" x=\"270.373319\" xlink:href=\"#ma49b87e380\" y=\"66.544395\"/>\n     <use style=\"fill:#1f77b4;stroke:#1f77b4;\" x=\"279.879359\" xlink:href=\"#ma49b87e380\" y=\"60.372444\"/>\n     <use style=\"fill:#1f77b4;stroke:#1f77b4;\" x=\"289.385399\" xlink:href=\"#ma49b87e380\" y=\"54.200494\"/>\n     <use style=\"fill:#1f77b4;stroke:#1f77b4;\" x=\"298.891439\" xlink:href=\"#ma49b87e380\" y=\"48.028543\"/>\n     <use style=\"fill:#1f77b4;stroke:#1f77b4;\" x=\"308.397479\" xlink:href=\"#ma49b87e380\" y=\"41.856593\"/>\n     <use style=\"fill:#1f77b4;stroke:#1f77b4;\" x=\"317.903519\" xlink:href=\"#ma49b87e380\" y=\"35.684642\"/>\n     <use style=\"fill:#1f77b4;stroke:#1f77b4;\" x=\"327.409559\" xlink:href=\"#ma49b87e380\" y=\"29.512691\"/>\n     <use style=\"fill:#1f77b4;stroke:#1f77b4;\" x=\"336.915599\" xlink:href=\"#ma49b87e380\" y=\"23.340741\"/>\n     <use style=\"fill:#1f77b4;stroke:#1f77b4;\" x=\"346.421639\" xlink:href=\"#ma49b87e380\" y=\"17.16879\"/>\n    </g>\n   </g>\n   <g id=\"matplotlib.axis_1\">\n    <g id=\"xtick_1\">\n     <g id=\"line2d_1\">\n      <defs>\n       <path d=\"M 0 0 \nL 0 3.5 \n\" id=\"m957dbcb42e\" style=\"stroke:#000000;stroke-width:0.8;\"/>\n      </defs>\n      <g>\n       <use style=\"stroke:#000000;stroke-width:0.8;\" x=\"42.228361\" xlink:href=\"#m957dbcb42e\" y=\"224.64\"/>\n      </g>\n     </g>\n     <g id=\"text_1\">\n      <!-- 0 -->\n      <defs>\n       <path d=\"M 31.78125 66.40625 \nQ 24.171875 66.40625 20.328125 58.90625 \nQ 16.5 51.421875 16.5 36.375 \nQ 16.5 21.390625 20.328125 13.890625 \nQ 24.171875 6.390625 31.78125 6.390625 \nQ 39.453125 6.390625 43.28125 13.890625 \nQ 47.125 21.390625 47.125 36.375 \nQ 47.125 51.421875 43.28125 58.90625 \nQ 39.453125 66.40625 31.78125 66.40625 \nz\nM 31.78125 74.21875 \nQ 44.046875 74.21875 50.515625 64.515625 \nQ 56.984375 54.828125 56.984375 36.375 \nQ 56.984375 17.96875 50.515625 8.265625 \nQ 44.046875 -1.421875 31.78125 -1.421875 \nQ 19.53125 -1.421875 13.0625 8.265625 \nQ 6.59375 17.96875 6.59375 36.375 \nQ 6.59375 54.828125 13.0625 64.515625 \nQ 19.53125 74.21875 31.78125 74.21875 \nz\n\" id=\"DejaVuSans-48\"/>\n      </defs>\n      <g transform=\"translate(39.047111 239.238437)scale(0.1 -0.1)\">\n       <use xlink:href=\"#DejaVuSans-48\"/>\n      </g>\n     </g>\n    </g>\n    <g id=\"xtick_2\">\n     <g id=\"line2d_2\">\n      <g>\n       <use style=\"stroke:#000000;stroke-width:0.8;\" x=\"89.758561\" xlink:href=\"#m957dbcb42e\" y=\"224.64\"/>\n      </g>\n     </g>\n     <g id=\"text_2\">\n      <!-- 5 -->\n      <defs>\n       <path d=\"M 10.796875 72.90625 \nL 49.515625 72.90625 \nL 49.515625 64.59375 \nL 19.828125 64.59375 \nL 19.828125 46.734375 \nQ 21.96875 47.46875 24.109375 47.828125 \nQ 26.265625 48.1875 28.421875 48.1875 \nQ 40.625 48.1875 47.75 41.5 \nQ 54.890625 34.8125 54.890625 23.390625 \nQ 54.890625 11.625 47.5625 5.09375 \nQ 40.234375 -1.421875 26.90625 -1.421875 \nQ 22.3125 -1.421875 17.546875 -0.640625 \nQ 12.796875 0.140625 7.71875 1.703125 \nL 7.71875 11.625 \nQ 12.109375 9.234375 16.796875 8.0625 \nQ 21.484375 6.890625 26.703125 6.890625 \nQ 35.15625 6.890625 40.078125 11.328125 \nQ 45.015625 15.765625 45.015625 23.390625 \nQ 45.015625 31 40.078125 35.4375 \nQ 35.15625 39.890625 26.703125 39.890625 \nQ 22.75 39.890625 18.8125 39.015625 \nQ 14.890625 38.140625 10.796875 36.28125 \nz\n\" id=\"DejaVuSans-53\"/>\n      </defs>\n      <g transform=\"translate(86.577311 239.238437)scale(0.1 -0.1)\">\n       <use xlink:href=\"#DejaVuSans-53\"/>\n      </g>\n     </g>\n    </g>\n    <g id=\"xtick_3\">\n     <g id=\"line2d_3\">\n      <g>\n       <use style=\"stroke:#000000;stroke-width:0.8;\" x=\"137.288761\" xlink:href=\"#m957dbcb42e\" y=\"224.64\"/>\n      </g>\n     </g>\n     <g id=\"text_3\">\n      <!-- 10 -->\n      <defs>\n       <path d=\"M 12.40625 8.296875 \nL 28.515625 8.296875 \nL 28.515625 63.921875 \nL 10.984375 60.40625 \nL 10.984375 69.390625 \nL 28.421875 72.90625 \nL 38.28125 72.90625 \nL 38.28125 8.296875 \nL 54.390625 8.296875 \nL 54.390625 0 \nL 12.40625 0 \nz\n\" id=\"DejaVuSans-49\"/>\n      </defs>\n      <g transform=\"translate(130.926261 239.238437)scale(0.1 -0.1)\">\n       <use xlink:href=\"#DejaVuSans-49\"/>\n       <use x=\"63.623047\" xlink:href=\"#DejaVuSans-48\"/>\n      </g>\n     </g>\n    </g>\n    <g id=\"xtick_4\">\n     <g id=\"line2d_4\">\n      <g>\n       <use style=\"stroke:#000000;stroke-width:0.8;\" x=\"184.81896\" xlink:href=\"#m957dbcb42e\" y=\"224.64\"/>\n      </g>\n     </g>\n     <g id=\"text_4\">\n      <!-- 15 -->\n      <g transform=\"translate(178.45646 239.238437)scale(0.1 -0.1)\">\n       <use xlink:href=\"#DejaVuSans-49\"/>\n       <use x=\"63.623047\" xlink:href=\"#DejaVuSans-53\"/>\n      </g>\n     </g>\n    </g>\n    <g id=\"xtick_5\">\n     <g id=\"line2d_5\">\n      <g>\n       <use style=\"stroke:#000000;stroke-width:0.8;\" x=\"232.34916\" xlink:href=\"#m957dbcb42e\" y=\"224.64\"/>\n      </g>\n     </g>\n     <g id=\"text_5\">\n      <!-- 20 -->\n      <defs>\n       <path d=\"M 19.1875 8.296875 \nL 53.609375 8.296875 \nL 53.609375 0 \nL 7.328125 0 \nL 7.328125 8.296875 \nQ 12.9375 14.109375 22.625 23.890625 \nQ 32.328125 33.6875 34.8125 36.53125 \nQ 39.546875 41.84375 41.421875 45.53125 \nQ 43.3125 49.21875 43.3125 52.78125 \nQ 43.3125 58.59375 39.234375 62.25 \nQ 35.15625 65.921875 28.609375 65.921875 \nQ 23.96875 65.921875 18.8125 64.3125 \nQ 13.671875 62.703125 7.8125 59.421875 \nL 7.8125 69.390625 \nQ 13.765625 71.78125 18.9375 73 \nQ 24.125 74.21875 28.421875 74.21875 \nQ 39.75 74.21875 46.484375 68.546875 \nQ 53.21875 62.890625 53.21875 53.421875 \nQ 53.21875 48.921875 51.53125 44.890625 \nQ 49.859375 40.875 45.40625 35.40625 \nQ 44.1875 33.984375 37.640625 27.21875 \nQ 31.109375 20.453125 19.1875 8.296875 \nz\n\" id=\"DejaVuSans-50\"/>\n      </defs>\n      <g transform=\"translate(225.98666 239.238437)scale(0.1 -0.1)\">\n       <use xlink:href=\"#DejaVuSans-50\"/>\n       <use x=\"63.623047\" xlink:href=\"#DejaVuSans-48\"/>\n      </g>\n     </g>\n    </g>\n    <g id=\"xtick_6\">\n     <g id=\"line2d_6\">\n      <g>\n       <use style=\"stroke:#000000;stroke-width:0.8;\" x=\"279.879359\" xlink:href=\"#m957dbcb42e\" y=\"224.64\"/>\n      </g>\n     </g>\n     <g id=\"text_6\">\n      <!-- 25 -->\n      <g transform=\"translate(273.516859 239.238437)scale(0.1 -0.1)\">\n       <use xlink:href=\"#DejaVuSans-50\"/>\n       <use x=\"63.623047\" xlink:href=\"#DejaVuSans-53\"/>\n      </g>\n     </g>\n    </g>\n    <g id=\"xtick_7\">\n     <g id=\"line2d_7\">\n      <g>\n       <use style=\"stroke:#000000;stroke-width:0.8;\" x=\"327.409559\" xlink:href=\"#m957dbcb42e\" y=\"224.64\"/>\n      </g>\n     </g>\n     <g id=\"text_7\">\n      <!-- 30 -->\n      <defs>\n       <path d=\"M 40.578125 39.3125 \nQ 47.65625 37.796875 51.625 33 \nQ 55.609375 28.21875 55.609375 21.1875 \nQ 55.609375 10.40625 48.1875 4.484375 \nQ 40.765625 -1.421875 27.09375 -1.421875 \nQ 22.515625 -1.421875 17.65625 -0.515625 \nQ 12.796875 0.390625 7.625 2.203125 \nL 7.625 11.71875 \nQ 11.71875 9.328125 16.59375 8.109375 \nQ 21.484375 6.890625 26.8125 6.890625 \nQ 36.078125 6.890625 40.9375 10.546875 \nQ 45.796875 14.203125 45.796875 21.1875 \nQ 45.796875 27.640625 41.28125 31.265625 \nQ 36.765625 34.90625 28.71875 34.90625 \nL 20.21875 34.90625 \nL 20.21875 43.015625 \nL 29.109375 43.015625 \nQ 36.375 43.015625 40.234375 45.921875 \nQ 44.09375 48.828125 44.09375 54.296875 \nQ 44.09375 59.90625 40.109375 62.90625 \nQ 36.140625 65.921875 28.71875 65.921875 \nQ 24.65625 65.921875 20.015625 65.03125 \nQ 15.375 64.15625 9.8125 62.3125 \nL 9.8125 71.09375 \nQ 15.4375 72.65625 20.34375 73.4375 \nQ 25.25 74.21875 29.59375 74.21875 \nQ 40.828125 74.21875 47.359375 69.109375 \nQ 53.90625 64.015625 53.90625 55.328125 \nQ 53.90625 49.265625 50.4375 45.09375 \nQ 46.96875 40.921875 40.578125 39.3125 \nz\n\" id=\"DejaVuSans-51\"/>\n      </defs>\n      <g transform=\"translate(321.047059 239.238437)scale(0.1 -0.1)\">\n       <use xlink:href=\"#DejaVuSans-51\"/>\n       <use x=\"63.623047\" xlink:href=\"#DejaVuSans-48\"/>\n      </g>\n     </g>\n    </g>\n   </g>\n   <g id=\"matplotlib.axis_2\">\n    <g id=\"ytick_1\">\n     <g id=\"line2d_8\">\n      <defs>\n       <path d=\"M 0 0 \nL -3.5 0 \n\" id=\"m323a35e0bc\" style=\"stroke:#000000;stroke-width:0.8;\"/>\n      </defs>\n      <g>\n       <use style=\"stroke:#000000;stroke-width:0.8;\" x=\"26.925\" xlink:href=\"#m323a35e0bc\" y=\"214.67121\"/>\n      </g>\n     </g>\n     <g id=\"text_8\">\n      <!-- 0 -->\n      <g transform=\"translate(13.5625 218.470429)scale(0.1 -0.1)\">\n       <use xlink:href=\"#DejaVuSans-48\"/>\n      </g>\n     </g>\n    </g>\n    <g id=\"ytick_2\">\n     <g id=\"line2d_9\">\n      <g>\n       <use style=\"stroke:#000000;stroke-width:0.8;\" x=\"26.925\" xlink:href=\"#m323a35e0bc\" y=\"183.811457\"/>\n      </g>\n     </g>\n     <g id=\"text_9\">\n      <!-- 5 -->\n      <g transform=\"translate(13.5625 187.610675)scale(0.1 -0.1)\">\n       <use xlink:href=\"#DejaVuSans-53\"/>\n      </g>\n     </g>\n    </g>\n    <g id=\"ytick_3\">\n     <g id=\"line2d_10\">\n      <g>\n       <use style=\"stroke:#000000;stroke-width:0.8;\" x=\"26.925\" xlink:href=\"#m323a35e0bc\" y=\"152.951704\"/>\n      </g>\n     </g>\n     <g id=\"text_10\">\n      <!-- 10 -->\n      <g transform=\"translate(7.2 156.750922)scale(0.1 -0.1)\">\n       <use xlink:href=\"#DejaVuSans-49\"/>\n       <use x=\"63.623047\" xlink:href=\"#DejaVuSans-48\"/>\n      </g>\n     </g>\n    </g>\n    <g id=\"ytick_4\">\n     <g id=\"line2d_11\">\n      <g>\n       <use style=\"stroke:#000000;stroke-width:0.8;\" x=\"26.925\" xlink:href=\"#m323a35e0bc\" y=\"122.091951\"/>\n      </g>\n     </g>\n     <g id=\"text_11\">\n      <!-- 15 -->\n      <g transform=\"translate(7.2 125.891169)scale(0.1 -0.1)\">\n       <use xlink:href=\"#DejaVuSans-49\"/>\n       <use x=\"63.623047\" xlink:href=\"#DejaVuSans-53\"/>\n      </g>\n     </g>\n    </g>\n    <g id=\"ytick_5\">\n     <g id=\"line2d_12\">\n      <g>\n       <use style=\"stroke:#000000;stroke-width:0.8;\" x=\"26.925\" xlink:href=\"#m323a35e0bc\" y=\"91.232198\"/>\n      </g>\n     </g>\n     <g id=\"text_12\">\n      <!-- 20 -->\n      <g transform=\"translate(7.2 95.031416)scale(0.1 -0.1)\">\n       <use xlink:href=\"#DejaVuSans-50\"/>\n       <use x=\"63.623047\" xlink:href=\"#DejaVuSans-48\"/>\n      </g>\n     </g>\n    </g>\n    <g id=\"ytick_6\">\n     <g id=\"line2d_13\">\n      <g>\n       <use style=\"stroke:#000000;stroke-width:0.8;\" x=\"26.925\" xlink:href=\"#m323a35e0bc\" y=\"60.372444\"/>\n      </g>\n     </g>\n     <g id=\"text_13\">\n      <!-- 25 -->\n      <g transform=\"translate(7.2 64.171663)scale(0.1 -0.1)\">\n       <use xlink:href=\"#DejaVuSans-50\"/>\n       <use x=\"63.623047\" xlink:href=\"#DejaVuSans-53\"/>\n      </g>\n     </g>\n    </g>\n    <g id=\"ytick_7\">\n     <g id=\"line2d_14\">\n      <g>\n       <use style=\"stroke:#000000;stroke-width:0.8;\" x=\"26.925\" xlink:href=\"#m323a35e0bc\" y=\"29.512691\"/>\n      </g>\n     </g>\n     <g id=\"text_14\">\n      <!-- 30 -->\n      <g transform=\"translate(7.2 33.31191)scale(0.1 -0.1)\">\n       <use xlink:href=\"#DejaVuSans-51\"/>\n       <use x=\"63.623047\" xlink:href=\"#DejaVuSans-48\"/>\n      </g>\n     </g>\n    </g>\n   </g>\n   <g id=\"patch_3\">\n    <path d=\"M 26.925 224.64 \nL 26.925 7.2 \n\" style=\"fill:none;stroke:#000000;stroke-linecap:square;stroke-linejoin:miter;stroke-width:0.8;\"/>\n   </g>\n   <g id=\"patch_4\">\n    <path d=\"M 361.725 224.64 \nL 361.725 7.2 \n\" style=\"fill:none;stroke:#000000;stroke-linecap:square;stroke-linejoin:miter;stroke-width:0.8;\"/>\n   </g>\n   <g id=\"patch_5\">\n    <path d=\"M 26.925 224.64 \nL 361.725 224.64 \n\" style=\"fill:none;stroke:#000000;stroke-linecap:square;stroke-linejoin:miter;stroke-width:0.8;\"/>\n   </g>\n   <g id=\"patch_6\">\n    <path d=\"M 26.925 7.2 \nL 361.725 7.2 \n\" style=\"fill:none;stroke:#000000;stroke-linecap:square;stroke-linejoin:miter;stroke-width:0.8;\"/>\n   </g>\n  </g>\n </g>\n <defs>\n  <clipPath id=\"p7aa1b18919\">\n   <rect height=\"217.44\" width=\"334.8\" x=\"26.925\" y=\"7.2\"/>\n  </clipPath>\n </defs>\n</svg>\n",
      "image/png": "[encoded data removed]"
     },
     "metadata": {
      "needs_background": "light"
     }
    }
   ],
   "source": [
    "plt.scatter(x,x)\n",
    "plt.show()"
   ]
  },
  {
   "cell_type": "code",
   "execution_count": 35,
   "metadata": {},
   "outputs": [],
   "source": [
    "import torch"
   ]
  },
  {
   "cell_type": "code",
   "execution_count": 37,
   "metadata": {},
   "outputs": [
    {
     "output_type": "execute_result",
     "data": {
      "text/plain": [
       "torch.Size([33])"
      ]
     },
     "metadata": {},
     "execution_count": 37
    }
   ],
   "source": [
    "torch.arange(-np.log(2),np.log(2)+embedding_step,embedding_step).shape"
   ]
  },
  {
   "cell_type": "code",
   "execution_count": 1,
   "metadata": {},
   "outputs": [],
   "source": [
    "import torchvision.models as models\n",
    "\n",
    "vgg = models.vgg16()"
   ]
  },
  {
   "cell_type": "code",
   "execution_count": 9,
   "metadata": {},
   "outputs": [
    {
     "output_type": "stream",
     "name": "stdout",
     "text": [
      "VGG(\n  (features): Sequential(\n    (0): Conv2d(3, 64, kernel_size=(3, 3), stride=(1, 1), padding=(1, 1))\n    (1): ReLU(inplace=True)\n    (2): Conv2d(64, 64, kernel_size=(3, 3), stride=(1, 1), padding=(1, 1))\n    (3): ReLU(inplace=True)\n    (4): MaxPool2d(kernel_size=2, stride=2, padding=0, dilation=1, ceil_mode=False)\n    (5): Conv2d(64, 128, kernel_size=(3, 3), stride=(1, 1), padding=(1, 1))\n    (6): ReLU(inplace=True)\n    (7): Conv2d(128, 128, kernel_size=(3, 3), stride=(1, 1), padding=(1, 1))\n    (8): ReLU(inplace=True)\n    (9): MaxPool2d(kernel_size=2, stride=2, padding=0, dilation=1, ceil_mode=False)\n    (10): Conv2d(128, 256, kernel_size=(3, 3), stride=(1, 1), padding=(1, 1))\n    (11): ReLU(inplace=True)\n    (12): Conv2d(256, 256, kernel_size=(3, 3), stride=(1, 1), padding=(1, 1))\n    (13): ReLU(inplace=True)\n    (14): Conv2d(256, 256, kernel_size=(3, 3), stride=(1, 1), padding=(1, 1))\n    (15): ReLU(inplace=True)\n    (16): MaxPool2d(kernel_size=2, stride=2, padding=0, dilation=1, ceil_mode=False)\n    (17): Conv2d(256, 512, kernel_size=(3, 3), stride=(1, 1), padding=(1, 1))\n    (18): ReLU(inplace=True)\n    (19): Conv2d(512, 512, kernel_size=(3, 3), stride=(1, 1), padding=(1, 1))\n    (20): ReLU(inplace=True)\n    (21): Conv2d(512, 512, kernel_size=(3, 3), stride=(1, 1), padding=(1, 1))\n    (22): ReLU(inplace=True)\n    (23): MaxPool2d(kernel_size=2, stride=2, padding=0, dilation=1, ceil_mode=False)\n    (24): Conv2d(512, 512, kernel_size=(3, 3), stride=(1, 1), padding=(1, 1))\n    (25): ReLU(inplace=True)\n    (26): Conv2d(512, 512, kernel_size=(3, 3), stride=(1, 1), padding=(1, 1))\n    (27): ReLU(inplace=True)\n    (28): Conv2d(512, 512, kernel_size=(3, 3), stride=(1, 1), padding=(1, 1))\n    (29): ReLU(inplace=True)\n    (30): MaxPool2d(kernel_size=2, stride=2, padding=0, dilation=1, ceil_mode=False)\n  )\n  (avgpool): AdaptiveAvgPool2d(output_size=(7, 7))\n  (classifier): Sequential(\n    (0): Linear(in_features=25088, out_features=4096, bias=True)\n    (1): ReLU(inplace=True)\n    (2): Dropout(p=0.5, inplace=False)\n    (3): Linear(in_features=4096, out_features=4096, bias=True)\n    (4): ReLU(inplace=True)\n    (5): Dropout(p=0.5, inplace=False)\n    (6): Linear(in_features=4096, out_features=1000, bias=True)\n  )\n)\n"
     ]
    }
   ],
   "source": [
    "print(vgg)"
   ]
  },
  {
   "cell_type": "code",
   "execution_count": 3,
   "metadata": {},
   "outputs": [
    {
     "output_type": "execute_result",
     "data": {
      "text/plain": [
       "torch.Size([3, 4, 6])"
      ]
     },
     "metadata": {},
     "execution_count": 3
    }
   ],
   "source": [
    "c.shape"
   ]
  },
  {
   "cell_type": "code",
   "execution_count": 2,
   "metadata": {},
   "outputs": [],
   "source": [
    "import torch\n",
    "import torch.nn as nn\n",
    "a = torch.rand(3,4,5)\n",
    "linear = nn.Linear(5,6)\n",
    "c = linear(a)\n",
    "\n"
   ]
  },
  {
   "cell_type": "code",
   "execution_count": 3,
   "metadata": {},
   "outputs": [],
   "source": [
    "import torch.nn as nn\n",
    "num_layers = 5\n",
    "c = nn.Sequential(*[\n",
    "            nn.Linear(10, 10), nn.Dropout(0.5), nn.GELU()]*num_layers)"
   ]
  },
  {
   "cell_type": "code",
   "execution_count": 2,
   "metadata": {},
   "outputs": [],
   "source": [
    "from model import Mars"
   ]
  },
  {
   "cell_type": "code",
   "execution_count": 3,
   "metadata": {},
   "outputs": [],
   "source": [
    "net = Mars(net_type='vgg16',name_layer='15')"
   ]
  },
  {
   "cell_type": "code",
   "execution_count": 4,
   "metadata": {},
   "outputs": [
    {
     "output_type": "stream",
     "name": "stdout",
     "text": [
      "Mars(\n  (backbone): Sequential(\n    (0): Conv2d(3, 64, kernel_size=(3, 3), stride=(1, 1), padding=(1, 1))\n    (1): ReLU(inplace=True)\n    (2): Conv2d(64, 64, kernel_size=(3, 3), stride=(1, 1), padding=(1, 1))\n    (3): ReLU(inplace=True)\n    (4): MaxPool2d(kernel_size=2, stride=2, padding=0, dilation=1, ceil_mode=False)\n    (5): Conv2d(64, 128, kernel_size=(3, 3), stride=(1, 1), padding=(1, 1))\n    (6): ReLU(inplace=True)\n    (7): Conv2d(128, 128, kernel_size=(3, 3), stride=(1, 1), padding=(1, 1))\n    (8): ReLU(inplace=True)\n    (9): MaxPool2d(kernel_size=2, stride=2, padding=0, dilation=1, ceil_mode=False)\n    (10): Conv2d(128, 256, kernel_size=(3, 3), stride=(1, 1), padding=(1, 1))\n    (11): ReLU(inplace=True)\n    (12): Conv2d(256, 256, kernel_size=(3, 3), stride=(1, 1), padding=(1, 1))\n    (13): ReLU(inplace=True)\n    (14): Conv2d(256, 256, kernel_size=(3, 3), stride=(1, 1), padding=(1, 1))\n    (15): ReLU(inplace=True)\n  )\n  (meta_learner): MetaLearner(\n    (net): Sequential(\n      (0): Linear(in_features=512, out_features=512, bias=True)\n      (1): Dropout(p=0.2, inplace=False)\n      (2): GELU()\n      (3): Linear(in_features=512, out_features=512, bias=True)\n      (4): Dropout(p=0.2, inplace=False)\n      (5): GELU()\n      (6): BiForwardHead(\n        (ARS_FTM_head): Linear(in_features=512, out_features=65536, bias=True)\n        (ARS_PWP_head): Linear(in_features=512, out_features=96, bias=True)\n      )\n    )\n  )\n  (deconv_layers): Deconv(\n    (net): Sequential(\n      (0): DeconvBlock(\n        (net): Sequential(\n          (0): Conv2d(96, 96, kernel_size=(3, 3), stride=(1, 1), padding=(1, 1))\n          (1): GELU()\n        )\n      )\n      (1): DeconvBlock(\n        (net): Sequential(\n          (0): Conv2d(96, 96, kernel_size=(3, 3), stride=(1, 1), padding=(1, 1))\n          (1): GELU()\n        )\n      )\n    )\n  )\n  (GAP): AdaptiveAvgPool2d(output_size=(1, 1))\n)\n"
     ]
    }
   ],
   "source": [
    "print(net)"
   ]
  },
  {
   "cell_type": "code",
   "execution_count": 45,
   "metadata": {},
   "outputs": [],
   "source": [
    "def fun(a,b):\n",
    "    for _ in range(30):\n",
    "        a*b\n",
    "def fun2(a,b,c,d):\n",
    "    for _ in range(30):\n",
    "        a*b\n",
    "        c*d\n",
    "\n"
   ]
  },
  {
   "cell_type": "code",
   "execution_count": 54,
   "metadata": {},
   "outputs": [],
   "source": [
    "a = torch.rand(2,2,2,4,4)\n",
    "b = torch.rand(2,2,4)\n",
    "c = torch.rand(2,4)\n",
    "d = torch.rand(2,4)\n",
    "e = torch.rand(2,4)\n",
    "f = torch.rand(2,4)\n",
    "\n"
   ]
  },
  {
   "cell_type": "code",
   "execution_count": 55,
   "metadata": {},
   "outputs": [],
   "source": [
    "c = nn.Conv2d(2,2,(3,3))"
   ]
  },
  {
   "cell_type": "code",
   "execution_count": 60,
   "metadata": {},
   "outputs": [],
   "source": [
    "a.requires_grad = True"
   ]
  },
  {
   "cell_type": "code",
   "execution_count": 71,
   "metadata": {},
   "outputs": [],
   "source": [
    "b = rearrange(a,'a1 a2 a3 a4 a5 -> (a1 a2 a3 a4 a5)')"
   ]
  },
  {
   "cell_type": "code",
   "execution_count": 72,
   "metadata": {},
   "outputs": [],
   "source": [
    "b[0] = -19"
   ]
  },
  {
   "cell_type": "code",
   "execution_count": 70,
   "metadata": {},
   "outputs": [],
   "source": [
    "b[0,0,0,0,0] = 1\n"
   ]
  },
  {
   "cell_type": "code",
   "execution_count": 73,
   "metadata": {},
   "outputs": [
    {
     "output_type": "execute_result",
     "data": {
      "text/plain": [
       "tensor([[[[[-1.9000e+01,  1.0454e-01,  6.0607e-01,  5.0227e-01],\n",
       "           [ 9.9360e-01,  5.7823e-01,  1.9584e-01,  4.8426e-01],\n",
       "           [ 3.2153e-01,  8.3373e-01,  8.3639e-01,  7.8582e-01],\n",
       "           [ 6.9079e-01,  5.1361e-01,  3.6817e-01,  4.1023e-01]],\n",
       "\n",
       "          [[ 5.6616e-01,  1.5359e-01,  8.4569e-01,  3.6964e-01],\n",
       "           [ 5.1594e-01,  7.4046e-01,  6.0378e-01,  7.3404e-01],\n",
       "           [ 8.2408e-01,  5.5956e-01,  5.4380e-01,  5.0603e-01],\n",
       "           [ 8.7796e-01,  8.3281e-01,  9.2195e-01,  9.2662e-01]]],\n",
       "\n",
       "\n",
       "         [[[ 6.8745e-01,  3.6272e-01,  2.3804e-01,  5.4103e-01],\n",
       "           [ 8.7111e-01,  3.3673e-01,  7.1268e-01,  1.2145e-01],\n",
       "           [ 8.8366e-01,  7.0107e-01,  7.4303e-01,  2.8654e-01],\n",
       "           [ 9.7972e-01,  1.5840e-01,  2.8183e-02,  2.9156e-01]],\n",
       "\n",
       "          [[ 5.6136e-02,  7.7152e-01,  1.5632e-01,  6.1698e-01],\n",
       "           [ 6.4977e-01,  9.6497e-02,  5.0336e-01,  9.8730e-01],\n",
       "           [ 7.3751e-01,  6.2495e-01,  5.1386e-01,  5.7190e-01],\n",
       "           [ 8.5969e-01,  1.2404e-01,  6.4161e-01,  2.1092e-01]]]],\n",
       "\n",
       "\n",
       "\n",
       "        [[[[ 2.4126e-01,  2.7916e-02,  7.5597e-01,  5.7652e-01],\n",
       "           [ 6.1944e-01,  3.3853e-01,  3.4953e-01,  6.1422e-01],\n",
       "           [ 8.1187e-01,  5.2969e-02,  7.4954e-01,  8.6338e-01],\n",
       "           [ 1.2958e-01,  5.5506e-01,  9.1451e-01,  5.3652e-01]],\n",
       "\n",
       "          [[ 9.9272e-01,  8.7023e-02,  6.4321e-01,  3.7621e-01],\n",
       "           [ 8.4362e-02,  5.5706e-01,  2.7477e-01,  8.0511e-01],\n",
       "           [ 6.5496e-01,  6.7731e-01,  3.1877e-01,  9.6456e-01],\n",
       "           [ 4.5469e-02,  4.6644e-01,  9.7169e-01,  5.9826e-01]]],\n",
       "\n",
       "\n",
       "         [[[ 9.1653e-01,  4.2189e-01,  8.7403e-01,  1.4799e-02],\n",
       "           [ 9.4780e-01,  5.5468e-01,  7.0742e-01,  2.1171e-01],\n",
       "           [ 3.2581e-01,  8.7591e-01,  9.9119e-01,  4.9176e-01],\n",
       "           [ 8.4517e-01,  4.1030e-01,  4.9782e-01,  4.3228e-01]],\n",
       "\n",
       "          [[ 9.4894e-01,  1.8823e-01,  5.7731e-01,  5.5436e-01],\n",
       "           [ 5.0581e-01,  6.8568e-02,  9.7770e-02,  7.2874e-01],\n",
       "           [ 8.7526e-01,  6.7278e-02,  7.3507e-01,  2.9445e-01],\n",
       "           [ 2.7301e-01,  4.0808e-01,  1.4239e-01,  9.3844e-01]]]]])"
      ]
     },
     "metadata": {},
     "execution_count": 73
    }
   ],
   "source": [
    "a"
   ]
  },
  {
   "cell_type": "code",
   "execution_count": null,
   "metadata": {},
   "outputs": [],
   "source": []
  }
 ]
}